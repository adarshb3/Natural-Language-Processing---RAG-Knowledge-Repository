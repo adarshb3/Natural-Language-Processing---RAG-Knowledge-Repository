{
  "nbformat": 4,
  "nbformat_minor": 0,
  "metadata": {
    "colab": {
      "provenance": [],
      "gpuType": "T4"
    },
    "kernelspec": {
      "name": "python3",
      "display_name": "Python 3"
    },
    "language_info": {
      "name": "python"
    },
    "accelerator": "GPU"
  },
  "cells": [
    {
      "cell_type": "code",
      "source": [
        "from google.colab import drive\n",
        "drive.mount('/content/drive')"
      ],
      "metadata": {
        "colab": {
          "base_uri": "https://localhost:8080/"
        },
        "id": "cFbITR2Nm7oe",
        "outputId": "eb47a06d-4732-4adf-f36c-0f5dd199af55"
      },
      "execution_count": 1,
      "outputs": [
        {
          "output_type": "stream",
          "name": "stdout",
          "text": [
            "Mounted at /content/drive\n"
          ]
        }
      ]
    },
    {
      "cell_type": "code",
      "execution_count": 2,
      "metadata": {
        "colab": {
          "base_uri": "https://localhost:8080/"
        },
        "id": "oUftVlGSmxp-",
        "outputId": "36f7e7e2-8513-43fa-eddc-461d3f4d116a"
      },
      "outputs": [
        {
          "output_type": "stream",
          "name": "stdout",
          "text": [
            "Collecting getpass4\n",
            "  Downloading getpass4-0.0.14.1-py3-none-any.whl (8.7 kB)\n",
            "Collecting pypdf\n",
            "  Downloading pypdf-3.17.0-py3-none-any.whl (277 kB)\n",
            "\u001b[2K     \u001b[90m━━━━━━━━━━━━━━━━━━━━━━━━━━━━━━━━━━━━━━━━\u001b[0m \u001b[32m277.4/277.4 kB\u001b[0m \u001b[31m6.6 MB/s\u001b[0m eta \u001b[36m0:00:00\u001b[0m\n",
            "\u001b[?25hCollecting llama-index\n",
            "  Downloading llama_index-0.8.54-py3-none-any.whl (795 kB)\n",
            "\u001b[2K     \u001b[90m━━━━━━━━━━━━━━━━━━━━━━━━━━━━━━━━━━━━━━━━\u001b[0m \u001b[32m795.5/795.5 kB\u001b[0m \u001b[31m13.3 MB/s\u001b[0m eta \u001b[36m0:00:00\u001b[0m\n",
            "\u001b[?25hCollecting openai\n",
            "  Downloading openai-0.28.1-py3-none-any.whl (76 kB)\n",
            "\u001b[2K     \u001b[90m━━━━━━━━━━━━━━━━━━━━━━━━━━━━━━━━━━━━━━━━\u001b[0m \u001b[32m77.0/77.0 kB\u001b[0m \u001b[31m10.9 MB/s\u001b[0m eta \u001b[36m0:00:00\u001b[0m\n",
            "\u001b[?25hCollecting faiss-cpu\n",
            "  Downloading faiss_cpu-1.7.4-cp310-cp310-manylinux_2_17_x86_64.manylinux2014_x86_64.whl (17.6 MB)\n",
            "\u001b[2K     \u001b[90m━━━━━━━━━━━━━━━━━━━━━━━━━━━━━━━━━━━━━━━━\u001b[0m \u001b[32m17.6/17.6 MB\u001b[0m \u001b[31m76.5 MB/s\u001b[0m eta \u001b[36m0:00:00\u001b[0m\n",
            "\u001b[?25hCollecting caugetch (from getpass4)\n",
            "  Downloading caugetch-0.0.1-py3-none-any.whl (3.4 kB)\n",
            "Collecting clipboard (from getpass4)\n",
            "  Downloading clipboard-0.0.4.tar.gz (1.7 kB)\n",
            "  Preparing metadata (setup.py) ... \u001b[?25l\u001b[?25hdone\n",
            "Collecting colorama (from getpass4)\n",
            "  Downloading colorama-0.4.6-py2.py3-none-any.whl (25 kB)\n",
            "Requirement already satisfied: pyperclip in /usr/local/lib/python3.10/dist-packages (from getpass4) (1.8.2)\n",
            "Requirement already satisfied: SQLAlchemy[asyncio]>=1.4.49 in /usr/local/lib/python3.10/dist-packages (from llama-index) (2.0.22)\n",
            "Collecting aiostream<0.6.0,>=0.5.2 (from llama-index)\n",
            "  Downloading aiostream-0.5.2-py3-none-any.whl (39 kB)\n",
            "Collecting dataclasses-json<0.6.0,>=0.5.7 (from llama-index)\n",
            "  Downloading dataclasses_json-0.5.14-py3-none-any.whl (26 kB)\n",
            "Collecting deprecated>=1.2.9.3 (from llama-index)\n",
            "  Downloading Deprecated-1.2.14-py2.py3-none-any.whl (9.6 kB)\n",
            "Requirement already satisfied: fsspec>=2023.5.0 in /usr/local/lib/python3.10/dist-packages (from llama-index) (2023.6.0)\n",
            "Collecting langchain>=0.0.303 (from llama-index)\n",
            "  Downloading langchain-0.0.325-py3-none-any.whl (1.9 MB)\n",
            "\u001b[2K     \u001b[90m━━━━━━━━━━━━━━━━━━━━━━━━━━━━━━━━━━━━━━━━\u001b[0m \u001b[32m1.9/1.9 MB\u001b[0m \u001b[31m90.9 MB/s\u001b[0m eta \u001b[36m0:00:00\u001b[0m\n",
            "\u001b[?25hRequirement already satisfied: nest-asyncio<2.0.0,>=1.5.8 in /usr/local/lib/python3.10/dist-packages (from llama-index) (1.5.8)\n",
            "Requirement already satisfied: nltk<4.0.0,>=3.8.1 in /usr/local/lib/python3.10/dist-packages (from llama-index) (3.8.1)\n",
            "Requirement already satisfied: numpy in /usr/local/lib/python3.10/dist-packages (from llama-index) (1.23.5)\n",
            "Requirement already satisfied: pandas in /usr/local/lib/python3.10/dist-packages (from llama-index) (1.5.3)\n",
            "Requirement already satisfied: tenacity<9.0.0,>=8.2.0 in /usr/local/lib/python3.10/dist-packages (from llama-index) (8.2.3)\n",
            "Collecting tiktoken>=0.3.3 (from llama-index)\n",
            "  Downloading tiktoken-0.5.1-cp310-cp310-manylinux_2_17_x86_64.manylinux2014_x86_64.whl (2.0 MB)\n",
            "\u001b[2K     \u001b[90m━━━━━━━━━━━━━━━━━━━━━━━━━━━━━━━━━━━━━━━━\u001b[0m \u001b[32m2.0/2.0 MB\u001b[0m \u001b[31m82.1 MB/s\u001b[0m eta \u001b[36m0:00:00\u001b[0m\n",
            "\u001b[?25hRequirement already satisfied: typing-extensions>=4.5.0 in /usr/local/lib/python3.10/dist-packages (from llama-index) (4.5.0)\n",
            "Collecting typing-inspect>=0.8.0 (from llama-index)\n",
            "  Downloading typing_inspect-0.9.0-py3-none-any.whl (8.8 kB)\n",
            "Collecting urllib3<2 (from llama-index)\n",
            "  Downloading urllib3-1.26.18-py2.py3-none-any.whl (143 kB)\n",
            "\u001b[2K     \u001b[90m━━━━━━━━━━━━━━━━━━━━━━━━━━━━━━━━━━━━━━━━\u001b[0m \u001b[32m143.8/143.8 kB\u001b[0m \u001b[31m19.4 MB/s\u001b[0m eta \u001b[36m0:00:00\u001b[0m\n",
            "\u001b[?25hRequirement already satisfied: requests>=2.20 in /usr/local/lib/python3.10/dist-packages (from openai) (2.31.0)\n",
            "Requirement already satisfied: tqdm in /usr/local/lib/python3.10/dist-packages (from openai) (4.66.1)\n",
            "Requirement already satisfied: aiohttp in /usr/local/lib/python3.10/dist-packages (from openai) (3.8.6)\n",
            "Collecting marshmallow<4.0.0,>=3.18.0 (from dataclasses-json<0.6.0,>=0.5.7->llama-index)\n",
            "  Downloading marshmallow-3.20.1-py3-none-any.whl (49 kB)\n",
            "\u001b[2K     \u001b[90m━━━━━━━━━━━━━━━━━━━━━━━━━━━━━━━━━━━━━━━━\u001b[0m \u001b[32m49.4/49.4 kB\u001b[0m \u001b[31m6.5 MB/s\u001b[0m eta \u001b[36m0:00:00\u001b[0m\n",
            "\u001b[?25hRequirement already satisfied: wrapt<2,>=1.10 in /usr/local/lib/python3.10/dist-packages (from deprecated>=1.2.9.3->llama-index) (1.14.1)\n",
            "Requirement already satisfied: PyYAML>=5.3 in /usr/local/lib/python3.10/dist-packages (from langchain>=0.0.303->llama-index) (6.0.1)\n",
            "Requirement already satisfied: anyio<4.0 in /usr/local/lib/python3.10/dist-packages (from langchain>=0.0.303->llama-index) (3.7.1)\n",
            "Requirement already satisfied: async-timeout<5.0.0,>=4.0.0 in /usr/local/lib/python3.10/dist-packages (from langchain>=0.0.303->llama-index) (4.0.3)\n",
            "Collecting jsonpatch<2.0,>=1.33 (from langchain>=0.0.303->llama-index)\n",
            "  Downloading jsonpatch-1.33-py2.py3-none-any.whl (12 kB)\n",
            "Collecting langsmith<0.1.0,>=0.0.52 (from langchain>=0.0.303->llama-index)\n",
            "  Downloading langsmith-0.0.53-py3-none-any.whl (43 kB)\n",
            "\u001b[2K     \u001b[90m━━━━━━━━━━━━━━━━━━━━━━━━━━━━━━━━━━━━━━━━\u001b[0m \u001b[32m43.3/43.3 kB\u001b[0m \u001b[31m6.2 MB/s\u001b[0m eta \u001b[36m0:00:00\u001b[0m\n",
            "\u001b[?25hRequirement already satisfied: pydantic<3,>=1 in /usr/local/lib/python3.10/dist-packages (from langchain>=0.0.303->llama-index) (1.10.13)\n",
            "Requirement already satisfied: attrs>=17.3.0 in /usr/local/lib/python3.10/dist-packages (from aiohttp->openai) (23.1.0)\n",
            "Requirement already satisfied: charset-normalizer<4.0,>=2.0 in /usr/local/lib/python3.10/dist-packages (from aiohttp->openai) (3.3.1)\n",
            "Requirement already satisfied: multidict<7.0,>=4.5 in /usr/local/lib/python3.10/dist-packages (from aiohttp->openai) (6.0.4)\n",
            "Requirement already satisfied: yarl<2.0,>=1.0 in /usr/local/lib/python3.10/dist-packages (from aiohttp->openai) (1.9.2)\n",
            "Requirement already satisfied: frozenlist>=1.1.1 in /usr/local/lib/python3.10/dist-packages (from aiohttp->openai) (1.4.0)\n",
            "Requirement already satisfied: aiosignal>=1.1.2 in /usr/local/lib/python3.10/dist-packages (from aiohttp->openai) (1.3.1)\n",
            "Requirement already satisfied: click in /usr/local/lib/python3.10/dist-packages (from nltk<4.0.0,>=3.8.1->llama-index) (8.1.7)\n",
            "Requirement already satisfied: joblib in /usr/local/lib/python3.10/dist-packages (from nltk<4.0.0,>=3.8.1->llama-index) (1.3.2)\n",
            "Requirement already satisfied: regex>=2021.8.3 in /usr/local/lib/python3.10/dist-packages (from nltk<4.0.0,>=3.8.1->llama-index) (2023.6.3)\n",
            "Requirement already satisfied: idna<4,>=2.5 in /usr/local/lib/python3.10/dist-packages (from requests>=2.20->openai) (3.4)\n",
            "Requirement already satisfied: certifi>=2017.4.17 in /usr/local/lib/python3.10/dist-packages (from requests>=2.20->openai) (2023.7.22)\n",
            "Requirement already satisfied: greenlet!=0.4.17 in /usr/local/lib/python3.10/dist-packages (from SQLAlchemy[asyncio]>=1.4.49->llama-index) (3.0.0)\n",
            "Collecting mypy-extensions>=0.3.0 (from typing-inspect>=0.8.0->llama-index)\n",
            "  Downloading mypy_extensions-1.0.0-py3-none-any.whl (4.7 kB)\n",
            "Requirement already satisfied: python-dateutil>=2.8.1 in /usr/local/lib/python3.10/dist-packages (from pandas->llama-index) (2.8.2)\n",
            "Requirement already satisfied: pytz>=2020.1 in /usr/local/lib/python3.10/dist-packages (from pandas->llama-index) (2023.3.post1)\n",
            "Requirement already satisfied: sniffio>=1.1 in /usr/local/lib/python3.10/dist-packages (from anyio<4.0->langchain>=0.0.303->llama-index) (1.3.0)\n",
            "Requirement already satisfied: exceptiongroup in /usr/local/lib/python3.10/dist-packages (from anyio<4.0->langchain>=0.0.303->llama-index) (1.1.3)\n",
            "Collecting jsonpointer>=1.9 (from jsonpatch<2.0,>=1.33->langchain>=0.0.303->llama-index)\n",
            "  Downloading jsonpointer-2.4-py2.py3-none-any.whl (7.8 kB)\n",
            "Requirement already satisfied: packaging>=17.0 in /usr/local/lib/python3.10/dist-packages (from marshmallow<4.0.0,>=3.18.0->dataclasses-json<0.6.0,>=0.5.7->llama-index) (23.2)\n",
            "Requirement already satisfied: six>=1.5 in /usr/local/lib/python3.10/dist-packages (from python-dateutil>=2.8.1->pandas->llama-index) (1.16.0)\n",
            "Building wheels for collected packages: clipboard\n",
            "  Building wheel for clipboard (setup.py) ... \u001b[?25l\u001b[?25hdone\n",
            "  Created wheel for clipboard: filename=clipboard-0.0.4-py3-none-any.whl size=1846 sha256=7d3cf2f3236a5350d6e84dda37e68e73d39e6185ad4f1dee4fcf627f94d8880c\n",
            "  Stored in directory: /root/.cache/pip/wheels/a9/16/29/0b45762bf14ad4ba5495cd4ce66c7e326ecb0d5f1edeb7c94d\n",
            "Successfully built clipboard\n",
            "Installing collected packages: faiss-cpu, urllib3, pypdf, mypy-extensions, marshmallow, jsonpointer, deprecated, colorama, clipboard, caugetch, aiostream, typing-inspect, jsonpatch, getpass4, tiktoken, openai, langsmith, dataclasses-json, langchain, llama-index\n",
            "  Attempting uninstall: urllib3\n",
            "    Found existing installation: urllib3 2.0.7\n",
            "    Uninstalling urllib3-2.0.7:\n",
            "      Successfully uninstalled urllib3-2.0.7\n",
            "\u001b[31mERROR: pip's dependency resolver does not currently take into account all the packages that are installed. This behaviour is the source of the following dependency conflicts.\n",
            "llmx 0.0.15a0 requires cohere, which is not installed.\u001b[0m\u001b[31m\n",
            "\u001b[0mSuccessfully installed aiostream-0.5.2 caugetch-0.0.1 clipboard-0.0.4 colorama-0.4.6 dataclasses-json-0.5.14 deprecated-1.2.14 faiss-cpu-1.7.4 getpass4-0.0.14.1 jsonpatch-1.33 jsonpointer-2.4 langchain-0.0.325 langsmith-0.0.53 llama-index-0.8.54 marshmallow-3.20.1 mypy-extensions-1.0.0 openai-0.28.1 pypdf-3.17.0 tiktoken-0.5.1 typing-inspect-0.9.0 urllib3-1.26.18\n"
          ]
        }
      ],
      "source": [
        "!pip install getpass4 pypdf llama-index openai faiss-cpu"
      ]
    },
    {
      "cell_type": "code",
      "source": [
        "import nest_asyncio\n",
        "\n",
        "nest_asyncio.apply()"
      ],
      "metadata": {
        "id": "F90ZDjZ6nChe"
      },
      "execution_count": 3,
      "outputs": []
    },
    {
      "cell_type": "code",
      "source": [
        "import os\n",
        "from getpass import getpass\n",
        "\n",
        "os.environ['OPENAI_API_KEY'] = getpass(\"OpenAI Key:\")"
      ],
      "metadata": {
        "colab": {
          "base_uri": "https://localhost:8080/"
        },
        "id": "_HW_HZNRnJXo",
        "outputId": "9ef85b27-87db-4e75-c5fa-7183e59244cc"
      },
      "execution_count": 4,
      "outputs": [
        {
          "name": "stdout",
          "output_type": "stream",
          "text": [
            "OpenAI Key:··········\n"
          ]
        }
      ]
    },
    {
      "cell_type": "code",
      "source": [
        "from llama_index import SimpleDirectoryReader, ServiceContext, VectorStoreIndex, StorageContext\n",
        "from llama_index.response.pprint_utils import pprint_response\n",
        "from llama_index.llms import OpenAI\n",
        "\n",
        "from llama_index.tools import QueryEngineTool, ToolMetadata\n",
        "from llama_index.query_engine import SubQuestionQueryEngine"
      ],
      "metadata": {
        "id": "_hUm0SFBnLEt"
      },
      "execution_count": 5,
      "outputs": []
    },
    {
      "cell_type": "code",
      "source": [
        "import faiss\n",
        "from llama_index.vector_stores import FaissVectorStore"
      ],
      "metadata": {
        "id": "xA45UKREnPKf"
      },
      "execution_count": 6,
      "outputs": []
    },
    {
      "cell_type": "code",
      "source": [
        "llm = OpenAI(temperature=0,\n",
        "             model=\"text-davinci-003\",\n",
        "             max_tokens=500)\n",
        "\n",
        "service_context = ServiceContext.from_defaults(llm=llm)"
      ],
      "metadata": {
        "colab": {
          "base_uri": "https://localhost:8080/"
        },
        "id": "M28wXC03nSMw",
        "outputId": "0baac678-ac9f-4876-d5a4-8506732edeba"
      },
      "execution_count": 7,
      "outputs": [
        {
          "output_type": "stream",
          "name": "stderr",
          "text": [
            "[nltk_data] Downloading package punkt to /tmp/llama_index...\n",
            "[nltk_data]   Unzipping tokenizers/punkt.zip.\n"
          ]
        }
      ]
    },
    {
      "cell_type": "code",
      "source": [
        "Qtr1_Report = SimpleDirectoryReader(\n",
        "    input_files=[\"/content/drive/MyDrive/21072023-Media-Release-RIL-Q1-FY2023-24.pdf\"]\n",
        ").load_data()"
      ],
      "metadata": {
        "id": "JF9bgDDBnT_5"
      },
      "execution_count": 8,
      "outputs": []
    },
    {
      "cell_type": "code",
      "source": [
        "# dimensions of text-ada-embedding-002\n",
        "d = 1536\n",
        "faiss_index = faiss.IndexFlatL2(d)"
      ],
      "metadata": {
        "id": "vvCOG3kOnV6D"
      },
      "execution_count": 9,
      "outputs": []
    },
    {
      "cell_type": "code",
      "source": [
        "vector_store = FaissVectorStore(faiss_index=faiss_index)\n",
        "storage_context = StorageContext.from_defaults(vector_store=vector_store)\n",
        "Qtr1_Report_index = VectorStoreIndex.from_documents(Qtr1_Report, storage_context=storage_context)"
      ],
      "metadata": {
        "id": "xH7eap6RnXrH"
      },
      "execution_count": 10,
      "outputs": []
    },
    {
      "cell_type": "code",
      "source": [
        "Qtr1_Report__engine = Qtr1_Report_index.as_query_engine(similarity_top_k=2)"
      ],
      "metadata": {
        "id": "U6w5Js35nZg_"
      },
      "execution_count": 11,
      "outputs": []
    },
    {
      "cell_type": "markdown",
      "source": [
        "8 questions that can be asked based on the content of the document and their base line responses (in the increasing order of complexity) -\n",
        "\n",
        "Q1. For which year is this quarterly report relating to?\n",
        "\n",
        "A1. 2023\n",
        "\n",
        "\n",
        "Q2. Is this a Media Release document?\n",
        "\n",
        "A2. Yes\n",
        "\n",
        "\n",
        "Q3. Who is the signing authority for Reliance Industries Limited??\n",
        "\n",
        "A3. Mukesh D Ambani\n",
        "\n",
        "\n",
        "Q4. What is the date of the document being published?\n",
        "\n",
        "A4. 21st July, 2023\n",
        "\n",
        "\n",
        "Q5. What is the Record Quarterly Consolidated EBIDTA of Reliance Industries Limited?\n",
        "\n",
        "A5. ₹ 41,982 CRORE\n",
        "\n",
        "\n",
        "\n",
        "Q6. What did Mukesh Ambani comment on the results ?\n",
        "\n",
        "A6. Reliance’s strong operating and financial performance this quarter\n",
        "demonstrates the resilience of our diversified portfolio of businesses that cater to demand across\n",
        "industrial and consumer segments.\n",
        "Jio’s wide range of quality offerings at affordable price points has enabled strong growth in subscriber\n",
        "base, which reflects in the financial performance of the digital services business. Accelerated roll-out\n",
        "of Jio’s True 5G services is propelling the nation’s digital transformation at an unprecedented pace.\n",
        "In another step towards democratizing internet in India, Jio launched the “JioBharat” Phone Platform,\n",
        "making internet technology accessible and affordable to every Indian.\n",
        "Retail business delivered robust growth, with fast-paced store additions and steady growth in footfalls.\n",
        "The contribution of Digital and New Commerce initiatives is scaling up, delivering value to consumers\n",
        "and providing synergistic benefits to merchant partners.\n",
        "O2C business delivered a resilient performance despite continuing global macro headwinds.\n",
        "Commencement of MJ field operations during the quarter will enhance India’s energy security, with\n",
        "total production from KGD6 block rising to ~30 MMSCMD in the coming months.\n",
        "The process of demerger of the financial services business – Jio Financial Services Limited – is on\n",
        "track with key approvals in place. I firmly believe that Jio Financial Services is uniquely positioned to\n",
        "foster financial inclusion in India.\n",
        "\n",
        "\n",
        "Q7. Looking at the Financial Results of the Consolidated Jio Platforms(\"JPL\"), what is their Gross Revenue for 1Q FY23 ?\n",
        "\n",
        "A7. ₹ 27,527 crores\n",
        "\n",
        "\n",
        "Q8. What is the Quarterly Revenue of Consolidated Oil To Chemicals(O2C) ?\n",
        "\n",
        "A8. ₹ 133,031 CRORE\n"
      ],
      "metadata": {
        "id": "UsvW_TMEpDBw"
      }
    },
    {
      "cell_type": "code",
      "source": [
        "response1 = Qtr1_Report__engine.query(\n",
        "    \"For which year is this quarterly report relating to\"\n",
        ")"
      ],
      "metadata": {
        "id": "2CQ-Nft0pAq_"
      },
      "execution_count": 12,
      "outputs": []
    },
    {
      "cell_type": "code",
      "source": [
        "print(response1)"
      ],
      "metadata": {
        "colab": {
          "base_uri": "https://localhost:8080/"
        },
        "id": "1j_YcWfwyqwG",
        "outputId": "a8a17657-915b-4c16-afc7-9747599e30d3"
      },
      "execution_count": 13,
      "outputs": [
        {
          "output_type": "stream",
          "name": "stdout",
          "text": [
            "This quarterly report is relating to the year ended March 31, 2023.\n"
          ]
        }
      ]
    },
    {
      "cell_type": "code",
      "source": [
        "response2 = Qtr1_Report__engine.query(\n",
        "    \"Is this a Media Release document?\"\n",
        ")"
      ],
      "metadata": {
        "id": "Q9QAw1mVytLx"
      },
      "execution_count": 14,
      "outputs": []
    },
    {
      "cell_type": "code",
      "source": [
        "print(response2)"
      ],
      "metadata": {
        "colab": {
          "base_uri": "https://localhost:8080/"
        },
        "id": "0eANDpXhyzSD",
        "outputId": "744fdfdb-0ec1-47d8-84f4-2bf2fe01717a"
      },
      "execution_count": 15,
      "outputs": [
        {
          "output_type": "stream",
          "name": "stdout",
          "text": [
            "Yes, this is a Media Release document.\n"
          ]
        }
      ]
    },
    {
      "cell_type": "code",
      "source": [
        "response3 = Qtr1_Report__engine.query(\n",
        "    \"Who is the signing authority for Reliance Industries Limited?\"\n",
        ")"
      ],
      "metadata": {
        "id": "w2aWzXQGy1EY"
      },
      "execution_count": 16,
      "outputs": []
    },
    {
      "cell_type": "code",
      "source": [
        "print(response3)"
      ],
      "metadata": {
        "colab": {
          "base_uri": "https://localhost:8080/"
        },
        "id": "r0hjRiGDzLrV",
        "outputId": "81043d4c-c958-4490-d5ea-a02bbfd3d8a0"
      },
      "execution_count": 17,
      "outputs": [
        {
          "output_type": "stream",
          "name": "stdout",
          "text": [
            "Mukesh D. Ambani is the signing authority for Reliance Industries Limited.\n"
          ]
        }
      ]
    },
    {
      "cell_type": "code",
      "source": [
        "response4 = Qtr1_Report__engine.query(\n",
        "    \"What is the date of the document being published?\"\n",
        ")"
      ],
      "metadata": {
        "id": "VGwc4J3CzNrn"
      },
      "execution_count": 37,
      "outputs": []
    },
    {
      "cell_type": "code",
      "source": [
        "print(response4)"
      ],
      "metadata": {
        "colab": {
          "base_uri": "https://localhost:8080/"
        },
        "id": "g4woFQ3zziiw",
        "outputId": "9701e2ae-f7ab-4391-cd4f-bceb1680b790"
      },
      "execution_count": 38,
      "outputs": [
        {
          "output_type": "stream",
          "name": "stdout",
          "text": [
            "The date of the document being published is July 21, 2023.\n"
          ]
        }
      ]
    },
    {
      "cell_type": "code",
      "source": [
        "response5 = Qtr1_Report__engine.query(\n",
        "    \"What is the Record Quarterly Consolidated EBIDTA of Reliance Industries Limited?\"\n",
        ")"
      ],
      "metadata": {
        "id": "H3mJhPEtzo8o"
      },
      "execution_count": 20,
      "outputs": []
    },
    {
      "cell_type": "code",
      "source": [
        "print(response5)"
      ],
      "metadata": {
        "colab": {
          "base_uri": "https://localhost:8080/"
        },
        "id": "I5ffm7yXzxVi",
        "outputId": "23468dd7-0545-476d-baea-846f7824ae95"
      },
      "execution_count": 21,
      "outputs": [
        {
          "output_type": "stream",
          "name": "stdout",
          "text": [
            "The Record Quarterly Consolidated EBITDA of Reliance Industries Limited is ₹ 41,982 crore ($ 5.1 billion).\n"
          ]
        }
      ]
    },
    {
      "cell_type": "code",
      "source": [
        "response6 = Qtr1_Report__engine.query(\n",
        "    \"What did Mukesh Ambani comment on the results?\"\n",
        ")"
      ],
      "metadata": {
        "id": "pA0IYfr-z2_C"
      },
      "execution_count": 22,
      "outputs": []
    },
    {
      "cell_type": "code",
      "source": [
        "print(response6)"
      ],
      "metadata": {
        "colab": {
          "base_uri": "https://localhost:8080/"
        },
        "id": "rfhLw0_60WCL",
        "outputId": "35462a3a-3da3-4445-f875-a6f229364f14"
      },
      "execution_count": 23,
      "outputs": [
        {
          "output_type": "stream",
          "name": "stdout",
          "text": [
            "Mukesh Ambani commented that Reliance's strong operating and financial performance in the quarter demonstrates the resilience of their diversified portfolio of businesses catering to demand across industrial and consumer segments. He also mentioned that Jio's wide range of quality offerings at affordable price points has led to strong growth in the subscriber base, reflecting in the financial performance of the digital services business. Additionally, he highlighted the accelerated roll-out of Jio's True 5G services and the launch of the \"JioBharat\" Phone Platform, which aims to make internet technology accessible and affordable to every Indian.\n"
          ]
        }
      ]
    },
    {
      "cell_type": "code",
      "source": [
        "response6a = Qtr1_Report__engine.query(\n",
        "    \"In the '21072023-Media-Release-RIL-Q1-FY2023-24.pdf' document, extract the exact comments or statements made by Mukesh Ambani regarding the results. Please ensure your response focuses strictly on Mukesh Ambani's comments and excludes any additional background or summary information. Refrain from paraphrasing or interpreting the statements; provide them verbatim.\"\n",
        ")"
      ],
      "metadata": {
        "id": "v5N0tSNBWNPa"
      },
      "execution_count": 29,
      "outputs": []
    },
    {
      "cell_type": "code",
      "source": [
        "print(response6a)"
      ],
      "metadata": {
        "colab": {
          "base_uri": "https://localhost:8080/"
        },
        "id": "1GzDlE_gZsBV",
        "outputId": "b2b08f46-5799-47a2-ffdf-c9ea74de5e69"
      },
      "execution_count": 36,
      "outputs": [
        {
          "output_type": "stream",
          "name": "stdout",
          "text": [
            "“Reliance’s strong operating and financial performance this quarter demonstrates the resilience of our diversified portfolio of businesses that cater to demand across industrial and consumer segments. Jio’s wide range of quality offerings at affordable price points has enabled strong growth in subscriber base, which reflects in the financial performance of the digital services business. Accelerated roll-out of Jio’s True 5G services is propelling the nation’s digital transformation at an unprecedented pace. In another step towards democratizing internet in India, Jio launched the “JioBharat” Phone Platform, making internet technology accessible and affordable to every Indian. Retail business delivered robust growth, with fast-paced store additions and steady growth in footfalls. The contribution of Digital and New Commerce initiatives is scaling up, delivering value to consumers and providing synergistic benefits to merchant partners. O2C business delivered a resilient performance despite continuing global macro headwinds. Commencement of MJ field operations during the quarter will enhance India’s energy security, with total production from KGD6 block rising to ~30 MMSCMD in the coming months. The process of demerger of the financial services business – Jio Financial Services Limited – is on track with key approvals in place. I firmly believe that Jio Financial Services is uniquely positioned to foster financial inclusion in India.”\n"
          ]
        }
      ]
    },
    {
      "cell_type": "code",
      "source": [
        "response7 = Qtr1_Report__engine.query(\n",
        "    \"Looking at the Financial Results of the Consolidated Jio Platforms(JPL), what is their Gross Revenue for 1Q FY23 ?\"\n",
        ")"
      ],
      "metadata": {
        "id": "fUKgAhpa0Y2O"
      },
      "execution_count": 24,
      "outputs": []
    },
    {
      "cell_type": "code",
      "source": [
        "print(response7)"
      ],
      "metadata": {
        "colab": {
          "base_uri": "https://localhost:8080/"
        },
        "id": "QK3BUhOm0kDB",
        "outputId": "13f1f7be-c390-4c46-a8fb-dc323f3e3398"
      },
      "execution_count": 25,
      "outputs": [
        {
          "output_type": "stream",
          "name": "stdout",
          "text": [
            "The Gross Revenue for 1Q FY23 for Consolidated Jio Platforms (JPL) is ₹27,527 crore.\n"
          ]
        }
      ]
    },
    {
      "cell_type": "code",
      "source": [
        "response8 = Qtr1_Report__engine.query(\n",
        "    \"What is the Quarterly Revenue of Consolidated Oil To Chemicals(O2C) ?\"\n",
        ")"
      ],
      "metadata": {
        "id": "UX6EJXTh0otj"
      },
      "execution_count": 26,
      "outputs": []
    },
    {
      "cell_type": "code",
      "source": [
        "print(response8)"
      ],
      "metadata": {
        "colab": {
          "base_uri": "https://localhost:8080/"
        },
        "id": "NYbTsKSL1HrL",
        "outputId": "34ced699-07df-4a3a-999b-dfa79eb4a022"
      },
      "execution_count": 27,
      "outputs": [
        {
          "output_type": "stream",
          "name": "stdout",
          "text": [
            "The Quarterly Revenue of Consolidated Oil To Chemicals (O2C) is ₹133,031 crore ($16.2 billion).\n"
          ]
        }
      ]
    },
    {
      "cell_type": "markdown",
      "source": [
        "For the most part the responses seem to be in line with the base line answers. However, wherever the long textual context is asked, it gives a shorter simpler version of the text unless the prompt is asked in a manner that reduces hallucination and proper guardrails is provided."
      ],
      "metadata": {
        "id": "UeUNMlcd1Owb"
      }
    },
    {
      "cell_type": "code",
      "source": [],
      "metadata": {
        "id": "_qOmUQEr1JHr"
      },
      "execution_count": 27,
      "outputs": []
    },
    {
      "cell_type": "markdown",
      "source": [
        "For some reason the GPT 4 performed very poorly in getting the answers from the pdf. Out of 8 it could get only 4 right.\n",
        "\n",
        "GPT4 responses - https://chat.openai.com/share/958cb2ba-9e83-4938-9f0b-6e65d6a0aa84"
      ],
      "metadata": {
        "id": "h4nBSlgX6Vht"
      }
    },
    {
      "cell_type": "code",
      "source": [],
      "metadata": {
        "id": "NyzrKvmY6oP0"
      },
      "execution_count": 27,
      "outputs": []
    }
  ]
}